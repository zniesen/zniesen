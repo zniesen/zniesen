{
  "nbformat": 4,
  "nbformat_minor": 0,
  "metadata": {
    "colab": {
      "provenance": [],
      "authorship_tag": "ABX9TyNRdyoPzCoMyntgPUdgB5g+"
    },
    "kernelspec": {
      "name": "python3",
      "display_name": "Python 3"
    },
    "language_info": {
      "name": "python"
    }
  },
  "cells": [
    {
      "cell_type": "code",
      "source": [
        "import string"
      ],
      "metadata": {
        "id": "QXAtQAsVOEYl"
      },
      "execution_count": 15,
      "outputs": []
    },
    {
      "cell_type": "code",
      "execution_count": 7,
      "metadata": {
        "id": "rFVz4CSTYFrZ"
      },
      "outputs": [],
      "source": [
        "emptyarr = []\n",
        "sample_string = \"Have you ever been to the water spout? to the very bottom of the water system. There you'll find a little Aligator who goes by the name of Alfred. If you do, he's mine. I lost him. I threw him down the water spout, and, now, I'm feeling lonely cause he's gone. I miss him.\""
      ]
    },
    {
      "cell_type": "code",
      "source": [
        "#making string lowercase and removing all punctuation\n",
        "lc_string = sample_string.translate(str.maketrans('', '', string.punctuation)).lower()\n",
        "\n",
        "#splitting the string into a list of words\n",
        "res = lc_string.split()"
      ],
      "metadata": {
        "id": "Fm9Ex0YeY06l"
      },
      "execution_count": 18,
      "outputs": []
    },
    {
      "cell_type": "code",
      "source": [
        "#creating empty arrays for all words and how many times each word is used\n",
        "words = []\n",
        "counter = []"
      ],
      "metadata": {
        "id": "mPj-kY64mC9r"
      },
      "execution_count": 25,
      "outputs": []
    },
    {
      "cell_type": "code",
      "source": [
        "#filling words array with all unique words from string\n",
        "for i in res:\n",
        "  if i in words:\n",
        "    continue\n",
        "  else:\n",
        "    words.append(i)\n",
        "    counter.append(res.count(i)) #updating counter for word\n",
        "print (words)\n",
        "print (counter)"
      ],
      "metadata": {
        "colab": {
          "base_uri": "https://localhost:8080/"
        },
        "id": "yrSU08gHl63h",
        "outputId": "8912607f-2594-4eae-b9da-23e6014ead74"
      },
      "execution_count": 26,
      "outputs": [
        {
          "output_type": "stream",
          "name": "stdout",
          "text": [
            "['have', 'you', 'ever', 'been', 'to', 'the', 'water', 'spout', 'very', 'bottom', 'of', 'system', 'there', 'youll', 'find', 'a', 'little', 'aligator', 'who', 'goes', 'by', 'name', 'alfred', 'if', 'do', 'hes', 'mine', 'i', 'lost', 'him', 'threw', 'down', 'and', 'now', 'im', 'feeling', 'lonely', 'cause', 'gone', 'miss']\n",
            "[1, 2, 1, 1, 2, 5, 3, 2, 1, 1, 2, 1, 1, 1, 1, 1, 1, 1, 1, 1, 1, 1, 1, 1, 1, 2, 1, 3, 1, 3, 1, 1, 1, 1, 1, 1, 1, 1, 1, 1]\n"
          ]
        }
      ]
    }
  ]
}